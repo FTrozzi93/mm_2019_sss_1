{
 "cells": [
  {
   "cell_type": "code",
   "execution_count": 1,
   "metadata": {},
   "outputs": [],
   "source": [
    "import mm_2019_sss_1 as mm\n",
    "import matplotlib.pyplot as plt\n",
    "import numpy as np"
   ]
  },
  {
   "cell_type": "code",
   "execution_count": 2,
   "metadata": {},
   "outputs": [
    {
     "name": "stdout",
     "output_type": "stream",
     "text": [
      "Step: 50000 | Energy: -2.8232\n",
      "Performance: 0.20897 seconds / 1000 steps\n",
      "Step: 50000 | Energy: -6.05182\n",
      "Performance: 0.22529 seconds / 1000 steps\n",
      "Step: 50000 | Energy: -6.11049\n",
      "Performance: 0.27048 seconds / 1000 steps\n",
      "Step: 50000 | Energy: -11.24698\n",
      "Performance: 0.30851 seconds / 1000 steps\n",
      "Step: 50000 | Energy: -4.53781\n",
      "Performance: 0.37252 seconds / 1000 steps\n",
      "Step: 50000 | Energy: 25.4\n",
      "Performance: 0.61936 seconds / 1000 steps\n",
      "Step: 50000 | Energy: 3414.9296\n",
      "Performance: 0.85416 seconds / 1000 steps\n",
      "Step: 50000 | Energy: 625494.81436\n",
      "Performance: 1.41408 seconds / 1000 steps\n",
      "Step: 50000 | Energy: 400855894.17914\n",
      "Performance: 2.99169 seconds / 1000 steps\n"
     ]
    }
   ],
   "source": [
    "n_particles = [10, 100, 250, 500, 1000, 2500, 5000, 10000,20000]\n",
    "n_steps = 50000\n",
    "performance_steps = list()\n",
    "for particles in n_particles:\n",
    "    sim = mm.MC(method='random', num_particles=particles, reduced_den=0.9, reduced_temp=0.9, max_displacement=0.1, cutoff=3.0)\n",
    "    sim.run(n_steps=n_steps, freq=n_steps)\n",
    "    performance_steps.append(sim.performance)\n",
    "performance_steps = np.array(performance_steps)"
   ]
  },
  {
   "cell_type": "code",
   "execution_count": 4,
   "metadata": {},
   "outputs": [
    {
     "data": {
      "text/plain": [
       "Text(0.5, 0, 'Number of particles')"
      ]
     },
     "execution_count": 4,
     "metadata": {},
     "output_type": "execute_result"
    },
    {
     "data": {
      "image/png": "[encoded data removed]",
      "text/plain": [
       "<Figure size 432x288 with 1 Axes>"
      ]
     },
     "metadata": {
      "needs_background": "light"
     },
     "output_type": "display_data"
    }
   ],
   "source": [
    "plt.loglog(n_particles, performance_steps / performance_steps[0], marker='o')\n",
    "plt.ylim(0.8,20)\n",
    "plt.ylabel(\"Relative performance\")\n",
    "plt.xlabel(\"Number of particles\")"
   ]
  },
  {
   "cell_type": "code",
   "execution_count": null,
   "metadata": {},
   "outputs": [],
   "source": []
  }
 ],
 "metadata": {
  "kernelspec": {
   "display_name": "Python 3",
   "language": "python",
   "name": "python3"
  },
  "language_info": {
   "codemirror_mode": {
    "name": "ipython",
    "version": 3
   },
   "file_extension": ".py",
   "mimetype": "text/x-python",
   "name": "python",
   "nbconvert_exporter": "python",
   "pygments_lexer": "ipython3",
   "version": "3.7.3"
  }
 },
 "nbformat": 4,
 "nbformat_minor": 2
}
