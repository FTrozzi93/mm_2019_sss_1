{
 "cells": [
  {
   "cell_type": "markdown",
   "metadata": {},
   "source": [
    "# Scaling performance with the number of particles\n",
    "We here test some scaling of our code with the number of particles"
   ]
  },
  {
   "cell_type": "markdown",
   "metadata": {},
   "source": [
    "## Imports"
   ]
  },
  {
   "cell_type": "code",
   "execution_count": null,
   "metadata": {},
   "outputs": [],
   "source": [
    "import mm_2019_sss_1 as mm\n",
    "import matplotlib.pyplot as plt\n",
    "import numpy as np"
   ]
  },
  {
   "cell_type": "markdown",
   "metadata": {},
   "source": [
    "## Hardware"
   ]
  },
  {
   "cell_type": "markdown",
   "metadata": {},
   "source": [
    "Optionally, show CPU info for reference."
   ]
  },
  {
   "cell_type": "code",
   "execution_count": 2,
   "metadata": {
    "scrolled": true
   },
   "outputs": [
    {
     "name": "stdout",
     "output_type": "stream",
     "text": [
      "Requirement already satisfied: py-cpuinfo in /anaconda3/lib/python3.7/site-packages (5.0.0)\r\n"
     ]
    },
    {
     "data": {
      "text/plain": [
       "{'python_version': '3.7.3.final.0 (64 bit)',\n",
       " 'cpuinfo_version': [5, 0, 0],\n",
       " 'arch': 'X86_64',\n",
       " 'bits': 64,\n",
       " 'count': 4,\n",
       " 'raw_arch_string': 'x86_64',\n",
       " 'vendor_id': 'GenuineIntel',\n",
       " 'brand': 'Intel(R) Core(TM) i5-8210Y CPU @ 1.60GHz',\n",
       " 'hz_advertised': '1.6000 GHz',\n",
       " 'hz_actual': '1.6000 GHz',\n",
       " 'hz_advertised_raw': [1600000000, 0],\n",
       " 'hz_actual_raw': [1600000000, 0],\n",
       " 'l2_cache_size': '256',\n",
       " 'stepping': 9,\n",
       " 'model': 142,\n",
       " 'family': 6,\n",
       " 'flags': ['1gbpage',\n",
       "  'acpi',\n",
       "  'adx',\n",
       "  'aes',\n",
       "  'apic',\n",
       "  'avx1.0',\n",
       "  'avx2',\n",
       "  'bmi1',\n",
       "  'bmi2',\n",
       "  'clfsh',\n",
       "  'clfsopt',\n",
       "  'cmov',\n",
       "  'cx16',\n",
       "  'cx8',\n",
       "  'de',\n",
       "  'ds',\n",
       "  'dscpl',\n",
       "  'dtes64',\n",
       "  'em64t',\n",
       "  'erms',\n",
       "  'est',\n",
       "  'f16c',\n",
       "  'fma',\n",
       "  'fpu',\n",
       "  'fpu_csds',\n",
       "  'fxsr',\n",
       "  'htt',\n",
       "  'ibrs',\n",
       "  'invpcid',\n",
       "  'ipt',\n",
       "  'l1df',\n",
       "  'lahf',\n",
       "  'lzcnt',\n",
       "  'mca',\n",
       "  'mce',\n",
       "  'mmx',\n",
       "  'mon',\n",
       "  'movbe',\n",
       "  'mpx',\n",
       "  'msr',\n",
       "  'mtrr',\n",
       "  'osxsave',\n",
       "  'pae',\n",
       "  'pat',\n",
       "  'pbe',\n",
       "  'pcid',\n",
       "  'pclmulqdq',\n",
       "  'pdcm',\n",
       "  'pge',\n",
       "  'popcnt',\n",
       "  'prefetchw',\n",
       "  'pse',\n",
       "  'pse36',\n",
       "  'rdrand',\n",
       "  'rdseed',\n",
       "  'rdtscp',\n",
       "  'rdwrfsgs',\n",
       "  'seglim64',\n",
       "  'sep',\n",
       "  'sgx',\n",
       "  'smap',\n",
       "  'smep',\n",
       "  'ss',\n",
       "  'ssbd',\n",
       "  'sse',\n",
       "  'sse2',\n",
       "  'sse3',\n",
       "  'sse4.1',\n",
       "  'sse4.2',\n",
       "  'ssse3',\n",
       "  'stibp',\n",
       "  'syscall',\n",
       "  'tm',\n",
       "  'tm2',\n",
       "  'tpr',\n",
       "  'tsc',\n",
       "  'tsc_thread_offset',\n",
       "  'tsci',\n",
       "  'tsctmr',\n",
       "  'tsxfa',\n",
       "  'vme',\n",
       "  'vmx',\n",
       "  'x2apic',\n",
       "  'xd',\n",
       "  'xsave']}"
      ]
     },
     "execution_count": 2,
     "metadata": {},
     "output_type": "execute_result"
    }
   ],
   "source": [
    "!pip install py-cpuinfo\n",
    "from cpuinfo import get_cpu_info\n",
    "get_cpu_info()"
   ]
  },
  {
   "cell_type": "markdown",
   "metadata": {},
   "source": [
    "# Performance tests\n",
    "Here we test our performance by fixing all the simulation paramters and varying only the number of particles `n_particles = [10, 100, 250, 500, 1000, 2500, 5000, 10000, 20000]`. The performance is measured in seconds-per-step and is extracted for each simulation."
   ]
  },
  {
   "cell_type": "code",
   "execution_count": 5,
   "metadata": {},
   "outputs": [
    {
     "name": "stdout",
     "output_type": "stream",
     "text": [
      "10 particles:\n",
      "Performance: 0.10949 seconds / 1000 steps\n",
      "------------------------------------\n",
      "100 particles:\n",
      "Performance: 0.13045 seconds / 1000 steps\n",
      "------------------------------------\n",
      "250 particles:\n",
      "Performance: 0.15382 seconds / 1000 steps\n",
      "------------------------------------\n",
      "500 particles:\n",
      "Performance: 0.18461 seconds / 1000 steps\n",
      "------------------------------------\n",
      "1000 particles:\n",
      "Performance: 0.2315 seconds / 1000 steps\n",
      "------------------------------------\n",
      "2500 particles:\n",
      "Performance: 0.39595 seconds / 1000 steps\n",
      "------------------------------------\n",
      "5000 particles:\n",
      "Performance: 0.57193 seconds / 1000 steps\n",
      "------------------------------------\n",
      "10000 particles:\n",
      "Performance: 0.94902 seconds / 1000 steps\n",
      "------------------------------------\n",
      "20000 particles:\n",
      "Performance: 1.69405 seconds / 1000 steps\n",
      "------------------------------------\n"
     ]
    }
   ],
   "source": [
    "n_particles = [10, 100, 250, 500, 1000, 2500, 5000, 10000, 20000]\n",
    "n_steps = 50000\n",
    "performance_steps = list()\n",
    "for particles in n_particles:\n",
    "    sim = mm.MC(method='random', num_particles=particles, reduced_den=0.9, reduced_temp=0.9, max_displacement=0.1, cutoff=3.0)\n",
    "    print(f\"{particles} particles:\")\n",
    "    sim.run(n_steps=n_steps, freq=n_steps+10)\n",
    "    print(\"------------------------------------\")\n",
    "    performance_steps.append(sim.performance)\n",
    "performance_steps = np.array(performance_steps)"
   ]
  },
  {
   "cell_type": "markdown",
   "metadata": {},
   "source": [
    "We can not plot the relative performance compared to the `n_particles = 10` run to get an idea of the scaling. Visualizing this we see some nice linear scaling."
   ]
  },
  {
   "cell_type": "code",
   "execution_count": 15,
   "metadata": {},
   "outputs": [
    {
     "data": {
      "text/plain": [
       "Text(0.5, 1.0, 'Seconds per step relative to 10 particle run')"
      ]
     },
     "execution_count": 15,
     "metadata": {},
     "output_type": "execute_result"
    },
    {
     "data": {
      "image/png": "[encoded data removed]",
      "text/plain": [
       "<Figure size 432x288 with 1 Axes>"
      ]
     },
     "metadata": {
      "needs_background": "light"
     },
     "output_type": "display_data"
    }
   ],
   "source": [
    "plt.plot(n_particles, performance_steps / performance_steps[0], marker='o')\n",
    "plt.ylim(0,20)\n",
    "plt.ylabel(\"Relative performance\")\n",
    "plt.xlabel(\"Number of particles\")\n",
    "plt.title(\"Seconds per step relative to 10 particle run\")"
   ]
  },
  {
   "cell_type": "code",
   "execution_count": 16,
   "metadata": {},
   "outputs": [
    {
     "data": {
      "text/plain": [
       "Text(0.5, 1.0, 'Seconds per step relative to 10 particle run')"
      ]
     },
     "execution_count": 16,
     "metadata": {},
     "output_type": "execute_result"
    },
    {
     "data": {
      "image/png": "[encoded data removed]",
      "text/plain": [
       "<Figure size 432x288 with 1 Axes>"
      ]
     },
     "metadata": {
      "needs_background": "light"
     },
     "output_type": "display_data"
    }
   ],
   "source": [
    "plt.semilogy(n_particles, performance_steps / performance_steps[0], marker='o')\n",
    "plt.ylim(0.8,20)\n",
    "plt.ylabel(\"Relative performance\")\n",
    "plt.xlabel(\"Number of particles\")\n",
    "plt.title(\"Seconds per step relative to 10 particle run\")"
   ]
  },
  {
   "cell_type": "code",
   "execution_count": null,
   "metadata": {},
   "outputs": [],
   "source": []
  }
 ],
 "metadata": {
  "kernelspec": {
   "display_name": "Python 3",
   "language": "python",
   "name": "python3"
  },
  "language_info": {
   "codemirror_mode": {
    "name": "ipython",
    "version": 3
   },
   "file_extension": ".py",
   "mimetype": "text/x-python",
   "name": "python",
   "nbconvert_exporter": "python",
   "pygments_lexer": "ipython3",
   "version": "3.7.3"
  }
 },
 "nbformat": 4,
 "nbformat_minor": 2
}
